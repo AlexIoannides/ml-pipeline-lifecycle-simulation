{
 "cells": [
  {
   "cell_type": "markdown",
   "metadata": {},
   "source": [
    "# Train Model\n",
    "\n",
    "This notebook demonstrates how to train a simple linear regression model, using a synthetic dataset downloaded from cloud storage (AWS S3). It persists the trained model and its metrics locally, before uploading them to cloud storage for use elsewhere."
   ]
  },
  {
   "cell_type": "markdown",
   "metadata": {},
   "source": [
    "## Imports"
   ]
  },
  {
   "cell_type": "code",
   "execution_count": 1,
   "metadata": {},
   "outputs": [],
   "source": [
    "import re\n",
    "from datetime import date\n",
    "from urllib.request import urlopen\n",
    "from typing import Tuple\n",
    "\n",
    "import boto3 as aws\n",
    "import numpy as np\n",
    "import pandas as pd\n",
    "from joblib import dump\n",
    "from sklearn.base import BaseEstimator\n",
    "from sklearn.linear_model import LinearRegression\n",
    "from sklearn.metrics import mean_absolute_percentage_error, max_error, r2_score\n",
    "from sklearn.model_selection import train_test_split"
   ]
  },
  {
   "cell_type": "markdown",
   "metadata": {},
   "source": [
    "## Load Dataset\n",
    "\n",
    "Load the most recent dataset stored on AWS S3."
   ]
  },
  {
   "cell_type": "code",
   "execution_count": 2,
   "metadata": {},
   "outputs": [
    {
     "name": "stdout",
     "output_type": "stream",
     "text": [
      "<class 'pandas.core.frame.DataFrame'>\n",
      "RangeIndex: 1440 entries, 0 to 1439\n",
      "Data columns (total 2 columns):\n",
      " #   Column  Non-Null Count  Dtype  \n",
      "---  ------  --------------  -----  \n",
      " 0   y       1440 non-null   float64\n",
      " 1   X       1440 non-null   float64\n",
      "dtypes: float64(2)\n",
      "memory usage: 22.6 KB\n"
     ]
    }
   ],
   "source": [
    "data_url = ('http://bodywork-ml-ops-project.s3.eu-west-2.amazonaws.com'\n",
    "            '/datasets/regression-dataset-2021-01-12.csv')\n",
    "\n",
    "data = pd.read_csv(urlopen(data_url))\n",
    "data.info()"
   ]
  },
  {
   "cell_type": "markdown",
   "metadata": {},
   "source": [
    "## Define Task Metrics\n",
    "\n",
    "This is a regression task, so we focus on:\n",
    "\n",
    "* Mean Absolute Percentage Error (MAPE)\n",
    "* R-Squared (R2)\n",
    "* Maximum Residual"
   ]
  },
  {
   "cell_type": "code",
   "execution_count": 3,
   "metadata": {},
   "outputs": [],
   "source": [
    "def model_metrics(y_actual, y_predicted) -> pd.DataFrame:\n",
    "    \"\"\"Return regression metrics record.\"\"\"\n",
    "    mape = mean_absolute_percentage_error(y_actual, y_predicted)\n",
    "    r_squared = r2_score(y_actual, y_predicted)\n",
    "    max_residual = max_error(y_actual, y_predicted)\n",
    "    metrics_record = pd.DataFrame({\n",
    "        'MAPE': [mape],\n",
    "        'R2': [r_squared],\n",
    "        'MR': [max_residual]\n",
    "    })\n",
    "    return metrics_record"
   ]
  },
  {
   "cell_type": "markdown",
   "metadata": {},
   "source": [
    "## Split Data into Train and Test Subsets\n",
    "\n",
    "We hold-out 20% of the data to use for testing the model."
   ]
  },
  {
   "cell_type": "code",
   "execution_count": 4,
   "metadata": {},
   "outputs": [],
   "source": [
    "X = data['X'].values.reshape(-1, 1)\n",
    "y = data['y'].values\n",
    "\n",
    "X_train, X_test, y_train, y_test = train_test_split(\n",
    "    X,\n",
    "    y,\n",
    "    test_size=0.2,\n",
    "    random_state=42\n",
    ")"
   ]
  },
  {
   "cell_type": "markdown",
   "metadata": {},
   "source": [
    "## Train Model and Compute Metrics"
   ]
  },
  {
   "cell_type": "code",
   "execution_count": 5,
   "metadata": {},
   "outputs": [
    {
     "name": "stdout",
     "output_type": "stream",
     "text": [
      "MAPE: 0.17\n",
      "R2: 0.66\n",
      "MR: 31.10\n"
     ]
    }
   ],
   "source": [
    "ols_regressor = LinearRegression(fit_intercept=True)\n",
    "ols_regressor.fit(X_train, y_train)\n",
    "metrics = model_metrics(y_test, ols_regressor.predict(X_test))\n",
    "\n",
    "for k, v in metrics.to_dict().items():\n",
    "    print(f'{k}: {v[0]:.2f}')"
   ]
  },
  {
   "cell_type": "markdown",
   "metadata": {},
   "source": [
    "## Persist Model and Metrics\n",
    "\n",
    "Upload artefacts to AWS S3."
   ]
  },
  {
   "cell_type": "code",
   "execution_count": 6,
   "metadata": {},
   "outputs": [
    {
     "name": "stdout",
     "output_type": "stream",
     "text": [
      "uploaded regressor-2021-01-12.joblib to s3://bodywork-ml-ops-project/models/\n",
      "uploaded regressor-2021-01-12.csv to s3://bodywork-ml-ops-project/model-metrics/\n"
     ]
    }
   ],
   "source": [
    "def make_artefact_filenames(data_url: str) -> Tuple[str, str]:\n",
    "    \"\"\"Generate model and metrics filenames from data URL.\"\"\"\n",
    "    data_date = re.findall('20[0-9][0-9]-[0-1][0-9]-[0-3][0-9]', data_url)[0]\n",
    "    model_filename = f'regressor-{data_date}.joblib'\n",
    "    metrics_filename = f'regressor-{data_date}.csv'\n",
    "    return (model_filename, metrics_filename)\n",
    "\n",
    "\n",
    "model_filename, metrics_filename = make_artefact_filenames(data_url)\n",
    "dump(ols_regressor, model_filename)\n",
    "metrics.to_csv(metrics_filename, header=True, index=False)\n",
    "\n",
    "s3_bucket_name = 'bodywork-ml-ops-project'\n",
    "s3_client = aws.client('s3')\n",
    "\n",
    "s3_client.upload_file(\n",
    "    model_filename,\n",
    "    s3_bucket_name,\n",
    "    f'models/{model_filename}'\n",
    ")\n",
    "print(f'uploaded {model_filename} to s3://{s3_bucket_name}/models/')\n",
    "\n",
    "s3_client.upload_file(\n",
    "    metrics_filename,\n",
    "    s3_bucket_name,\n",
    "    f'model-metrics/{metrics_filename}'\n",
    ")\n",
    "print(f'uploaded {metrics_filename} to s3://{s3_bucket_name}/model-metrics/')"
   ]
  },
  {
   "cell_type": "code",
   "execution_count": null,
   "metadata": {},
   "outputs": [],
   "source": []
  }
 ],
 "metadata": {
  "kernelspec": {
   "display_name": "Python 3",
   "language": "python",
   "name": "python3"
  },
  "language_info": {
   "codemirror_mode": {
    "name": "ipython",
    "version": 3
   },
   "file_extension": ".py",
   "mimetype": "text/x-python",
   "name": "python",
   "nbconvert_exporter": "python",
   "pygments_lexer": "ipython3",
   "version": "3.7.1"
  }
 },
 "nbformat": 4,
 "nbformat_minor": 4
}
