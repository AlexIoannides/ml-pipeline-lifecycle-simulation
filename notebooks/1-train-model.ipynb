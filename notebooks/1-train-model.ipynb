{
 "cells": [
  {
   "cell_type": "markdown",
   "metadata": {},
   "source": [
    "# Train Model\n",
    "\n",
    "This notebook demonstrates how to train a simple linear regression model, using a synthetic dataset downloaded from cloud storage (AWS S3). It persists the trained model and its metrics locally, before uploading them to cloud storage for use elsewhere."
   ]
  },
  {
   "cell_type": "markdown",
   "metadata": {},
   "source": [
    "## Imports"
   ]
  },
  {
   "cell_type": "code",
   "execution_count": 1,
   "metadata": {},
   "outputs": [],
   "source": [
    "import re\n",
    "from datetime import date, datetime\n",
    "from typing import Tuple\n",
    "\n",
    "import boto3 as aws\n",
    "import numpy as np\n",
    "import pandas as pd\n",
    "from botocore.exceptions import ClientError\n",
    "from joblib import dump\n",
    "from sklearn.base import BaseEstimator\n",
    "from sklearn.linear_model import LinearRegression\n",
    "from sklearn.metrics import mean_absolute_percentage_error, max_error, r2_score\n",
    "from sklearn.model_selection import train_test_split"
   ]
  },
  {
   "cell_type": "markdown",
   "metadata": {},
   "source": [
    "## Load Dataset\n",
    "\n",
    "Load all available data in an AWS S3 bucket. We start by defining an efficient helper function first."
   ]
  },
  {
   "cell_type": "code",
   "execution_count": 2,
   "metadata": {},
   "outputs": [],
   "source": [
    "def download_latest_dataset(aws_bucket: str) -> Tuple[pd.DataFrame, date]:\n",
    "    \"\"\"Get all available data from AWS S3 bucket.\n",
    "    \n",
    "    This function reads all CSV files from an AWS S3 bucket and then\n",
    "    combines them into a single Pandas DataFrame object.\n",
    "    \"\"\"\n",
    "    def _date_from_object_key(key: str) -> date:\n",
    "        \"\"\"Extract date from S3 file object key.\"\"\"\n",
    "        date_string = re.findall('20[2-9][0-9]-[0-1][0-9]-[0-3][0-9]', key)[0]\n",
    "        file_date = datetime.strptime(date_string, '%Y-%m-%d').date()\n",
    "        return file_date\n",
    "\n",
    "    def _load_dataset_from_aws_s3(s3_obj_key: str) -> pd.DataFrame:\n",
    "        \"\"\"Load CSV datafile from AWS S3 into DataFrame.\"\"\"\n",
    "        object_data = s3_client.get_object(\n",
    "            Bucket=aws_bucket,\n",
    "            Key=s3_obj_key\n",
    "        )\n",
    "        return pd.read_csv(object_data['Body'])\n",
    "\n",
    "        \n",
    "    print(f'downloading all available training data from s3://{aws_bucket}/datasets')\n",
    "    try:\n",
    "        s3_client = aws.client('s3')\n",
    "        s3_objects = s3_client.list_objects(Bucket=aws_bucket, Prefix='datasets/')\n",
    "        object_keys_and_dates = [\n",
    "            (obj['Key'], _date_from_object_key(obj['Key']))\n",
    "            for obj in s3_objects['Contents']\n",
    "        ]\n",
    "        ordered_dataset_objs = sorted(object_keys_and_dates, key=lambda e: e[1])\n",
    "        dataset = pd.concat(\n",
    "            _load_dataset_from_aws_s3(obj_key[0])\n",
    "            for obj_key in ordered_dataset_objs\n",
    "        )\n",
    "    except ClientError as e:\n",
    "        print(f'failed to download training data from s3://{aws_bucket}/datasets')\n",
    "    most_recent_date = object_keys_and_dates[-1][1]\n",
    "    return (dataset, most_recent_date)\n"
   ]
  },
  {
   "cell_type": "markdown",
   "metadata": {},
   "source": [
    "Applying `download_latest_dataset` to the project's S3 bucket."
   ]
  },
  {
   "cell_type": "code",
   "execution_count": 3,
   "metadata": {},
   "outputs": [
    {
     "name": "stdout",
     "output_type": "stream",
     "text": [
      "downloading all available training data from s3://bodywork-ml-ops-project/datasets\n",
      "- most recent data added on 2021-01-13\n",
      "\n"
     ]
    },
    {
     "data": {
      "text/html": [
       "<div>\n",
       "<style scoped>\n",
       "    .dataframe tbody tr th:only-of-type {\n",
       "        vertical-align: middle;\n",
       "    }\n",
       "\n",
       "    .dataframe tbody tr th {\n",
       "        vertical-align: top;\n",
       "    }\n",
       "\n",
       "    .dataframe thead th {\n",
       "        text-align: right;\n",
       "    }\n",
       "</style>\n",
       "<table border=\"1\" class=\"dataframe\">\n",
       "  <thead>\n",
       "    <tr style=\"text-align: right;\">\n",
       "      <th></th>\n",
       "      <th>y</th>\n",
       "      <th>X</th>\n",
       "    </tr>\n",
       "  </thead>\n",
       "  <tbody>\n",
       "    <tr>\n",
       "      <th>0</th>\n",
       "      <td>40.815915</td>\n",
       "      <td>50.173483</td>\n",
       "    </tr>\n",
       "    <tr>\n",
       "      <th>1</th>\n",
       "      <td>75.930485</td>\n",
       "      <td>74.614141</td>\n",
       "    </tr>\n",
       "    <tr>\n",
       "      <th>2</th>\n",
       "      <td>38.367376</td>\n",
       "      <td>14.230011</td>\n",
       "    </tr>\n",
       "    <tr>\n",
       "      <th>3</th>\n",
       "      <td>73.691793</td>\n",
       "      <td>69.397528</td>\n",
       "    </tr>\n",
       "    <tr>\n",
       "      <th>4</th>\n",
       "      <td>55.421877</td>\n",
       "      <td>92.700290</td>\n",
       "    </tr>\n",
       "    <tr>\n",
       "      <th>...</th>\n",
       "      <td>...</td>\n",
       "      <td>...</td>\n",
       "    </tr>\n",
       "    <tr>\n",
       "      <th>1435</th>\n",
       "      <td>63.243651</td>\n",
       "      <td>65.926000</td>\n",
       "    </tr>\n",
       "    <tr>\n",
       "      <th>1436</th>\n",
       "      <td>36.271838</td>\n",
       "      <td>6.710064</td>\n",
       "    </tr>\n",
       "    <tr>\n",
       "      <th>1437</th>\n",
       "      <td>41.803066</td>\n",
       "      <td>27.505270</td>\n",
       "    </tr>\n",
       "    <tr>\n",
       "      <th>1438</th>\n",
       "      <td>45.139632</td>\n",
       "      <td>50.133207</td>\n",
       "    </tr>\n",
       "    <tr>\n",
       "      <th>1439</th>\n",
       "      <td>75.317018</td>\n",
       "      <td>92.522733</td>\n",
       "    </tr>\n",
       "  </tbody>\n",
       "</table>\n",
       "<p>4319 rows × 2 columns</p>\n",
       "</div>"
      ],
      "text/plain": [
       "              y          X\n",
       "0     40.815915  50.173483\n",
       "1     75.930485  74.614141\n",
       "2     38.367376  14.230011\n",
       "3     73.691793  69.397528\n",
       "4     55.421877  92.700290\n",
       "...         ...        ...\n",
       "1435  63.243651  65.926000\n",
       "1436  36.271838   6.710064\n",
       "1437  41.803066  27.505270\n",
       "1438  45.139632  50.133207\n",
       "1439  75.317018  92.522733\n",
       "\n",
       "[4319 rows x 2 columns]"
      ]
     },
     "metadata": {},
     "output_type": "display_data"
    }
   ],
   "source": [
    "data, data_date = download_latest_dataset('bodywork-ml-ops-project')\n",
    "print(f'- most recent data added on {data_date}\\n')\n",
    "display(data)"
   ]
  },
  {
   "cell_type": "markdown",
   "metadata": {},
   "source": [
    "## Define Task Metrics\n",
    "\n",
    "This is a regression task, so we focus on:\n",
    "\n",
    "* Mean Absolute Percentage Error (MAPE)\n",
    "* R-Squared (R2)\n",
    "* Maximum Residual"
   ]
  },
  {
   "cell_type": "code",
   "execution_count": 4,
   "metadata": {},
   "outputs": [],
   "source": [
    "def model_metrics(y_actual, y_predicted) -> pd.DataFrame:\n",
    "    \"\"\"Return regression metrics record.\"\"\"\n",
    "    mape = mean_absolute_percentage_error(y_actual, y_predicted)\n",
    "    r_squared = r2_score(y_actual, y_predicted)\n",
    "    max_residual = max_error(y_actual, y_predicted)\n",
    "    metrics_record = pd.DataFrame({\n",
    "        'MAPE': [mape],\n",
    "        'R2': [r_squared],\n",
    "        'MR': [max_residual]\n",
    "    })\n",
    "    return metrics_record"
   ]
  },
  {
   "cell_type": "markdown",
   "metadata": {},
   "source": [
    "## Split Data into Train and Test Subsets\n",
    "\n",
    "We hold-out 20% of the data to use for testing the model."
   ]
  },
  {
   "cell_type": "code",
   "execution_count": 5,
   "metadata": {},
   "outputs": [],
   "source": [
    "X = data['X'].values.reshape(-1, 1)\n",
    "y = data['y'].values\n",
    "\n",
    "X_train, X_test, y_train, y_test = train_test_split(\n",
    "    X,\n",
    "    y,\n",
    "    test_size=0.2,\n",
    "    random_state=42\n",
    ")"
   ]
  },
  {
   "cell_type": "markdown",
   "metadata": {},
   "source": [
    "## Train Model and Compute Metrics"
   ]
  },
  {
   "cell_type": "code",
   "execution_count": 6,
   "metadata": {},
   "outputs": [
    {
     "name": "stdout",
     "output_type": "stream",
     "text": [
      "MAPE: 0.17\n",
      "R2: 0.69\n",
      "MR: 33.25\n"
     ]
    }
   ],
   "source": [
    "ols_regressor = LinearRegression(fit_intercept=True)\n",
    "ols_regressor.fit(X_train, y_train)\n",
    "metrics = model_metrics(y_test, ols_regressor.predict(X_test))\n",
    "\n",
    "for k, v in metrics.to_dict().items():\n",
    "    print(f'{k}: {v[0]:.2f}')"
   ]
  },
  {
   "cell_type": "markdown",
   "metadata": {},
   "source": [
    "## Persist Model and Metrics\n",
    "\n",
    "Upload artefacts to AWS S3."
   ]
  },
  {
   "cell_type": "code",
   "execution_count": 7,
   "metadata": {},
   "outputs": [
    {
     "name": "stdout",
     "output_type": "stream",
     "text": [
      "uploaded regressor-2021-01-13.joblib to s3://bodywork-ml-ops-project/models/\n",
      "uploaded regressor-2021-01-13.csv to s3://bodywork-ml-ops-project/model-metrics/\n"
     ]
    }
   ],
   "source": [
    "def make_artefact_filenames(data_date: str) -> Tuple[str, str]:\n",
    "    \"\"\"Generate model and metrics filenames given date.\"\"\"\n",
    "    model_filename = f'regressor-{data_date}.joblib'\n",
    "    metrics_filename = f'regressor-{data_date}.csv'\n",
    "    return (model_filename, metrics_filename)\n",
    "\n",
    "\n",
    "model_filename, metrics_filename = make_artefact_filenames(data_date)\n",
    "dump(ols_regressor, model_filename)\n",
    "metrics.to_csv(metrics_filename, header=True, index=False)\n",
    "\n",
    "s3_bucket_name = 'bodywork-ml-ops-project'\n",
    "s3_client = aws.client('s3')\n",
    "\n",
    "s3_client.upload_file(\n",
    "    model_filename,\n",
    "    s3_bucket_name,\n",
    "    f'models/{model_filename}'\n",
    ")\n",
    "print(f'uploaded {model_filename} to s3://{s3_bucket_name}/models/')\n",
    "\n",
    "s3_client.upload_file(\n",
    "    metrics_filename,\n",
    "    s3_bucket_name,\n",
    "    f'model-metrics/{metrics_filename}'\n",
    ")\n",
    "print(f'uploaded {metrics_filename} to s3://{s3_bucket_name}/model-metrics/')"
   ]
  },
  {
   "cell_type": "code",
   "execution_count": null,
   "metadata": {},
   "outputs": [],
   "source": []
  }
 ],
 "metadata": {
  "kernelspec": {
   "display_name": "Python 3",
   "language": "python",
   "name": "python3"
  },
  "language_info": {
   "codemirror_mode": {
    "name": "ipython",
    "version": 3
   },
   "file_extension": ".py",
   "mimetype": "text/x-python",
   "name": "python",
   "nbconvert_exporter": "python",
   "pygments_lexer": "ipython3",
   "version": "3.7.1"
  }
 },
 "nbformat": 4,
 "nbformat_minor": 4
}
