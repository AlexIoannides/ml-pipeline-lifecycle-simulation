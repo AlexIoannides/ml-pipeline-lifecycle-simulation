{
 "cells": [
  {
   "cell_type": "markdown",
   "metadata": {},
   "source": [
    "# Test Model-Scoring Service\n",
    "\n",
    "This notebook uses newly generated data to test the model-scoring service - i.e. it uses data generated for the period `t+1` to test a model trained with all data up until period `t`."
   ]
  },
  {
   "cell_type": "markdown",
   "metadata": {},
   "source": [
    "## Imports"
   ]
  },
  {
   "cell_type": "code",
   "execution_count": 1,
   "metadata": {},
   "outputs": [],
   "source": [
    "import re\n",
    "from datetime import date, datetime\n",
    "from io import BytesIO\n",
    "from typing import Dict, Tuple\n",
    "\n",
    "import requests\n",
    "import boto3 as aws\n",
    "import numpy as np\n",
    "import pandas as pd\n",
    "from botocore.exceptions import ClientError"
   ]
  },
  {
   "cell_type": "markdown",
   "metadata": {},
   "source": [
    "## Load Newly Generated Data File\n",
    "\n",
    "Load the newly generated CSV data file from the project's AWS S3 bucket. We start by defining an efficient helper function."
   ]
  },
  {
   "cell_type": "code",
   "execution_count": 2,
   "metadata": {},
   "outputs": [],
   "source": [
    "def download_latest_data_file(aws_bucket: str) -> Tuple[pd.DataFrame, date]:\n",
    "    \"\"\"Get latest model from AWS S3 bucket.\"\"\"\n",
    "    def _date_from_object_key(key: str) -> date:\n",
    "        \"\"\"Extract date from S3 file object key.\"\"\"\n",
    "        date_string = re.findall('20[2-9][0-9]-[0-1][0-9]-[0-3][0-9]', key)[0]\n",
    "        file_date = datetime.strptime(date_string, '%Y-%m-%d').date()\n",
    "        return file_date\n",
    "\n",
    "    print(f'downloading latest data file from s3://{aws_bucket}/datasets')\n",
    "    try:\n",
    "        s3_client = aws.client('s3')\n",
    "        s3_objects = s3_client.list_objects(Bucket=aws_bucket, Prefix='datasets/')\n",
    "        object_keys_and_dates = [\n",
    "            (obj['Key'], _date_from_object_key(obj['Key']))\n",
    "            for obj in s3_objects['Contents']\n",
    "        ]\n",
    "        latest_file_obj = sorted(object_keys_and_dates, key=lambda e: e[1])[-1]\n",
    "        latest_file_obj_key = latest_file_obj[0]\n",
    "        object_data = s3_client.get_object(Bucket=aws_bucket, Key=latest_file_obj_key)\n",
    "        data = pd.read_csv(BytesIO(object_data['Body'].read()))\n",
    "        dataset_date = latest_file_obj[1]\n",
    "    except ClientError:\n",
    "        print(f'failed to data file from s3://{aws_bucket}/datasets')\n",
    "    return (data, dataset_date)\n"
   ]
  },
  {
   "cell_type": "markdown",
   "metadata": {},
   "source": [
    "Applying `download_latest_data_file` to the project's S3 bucket."
   ]
  },
  {
   "cell_type": "code",
   "execution_count": 3,
   "metadata": {},
   "outputs": [
    {
     "name": "stdout",
     "output_type": "stream",
     "text": [
      "downloading latest data file from s3://bodywork-ml-ops-project/datasets\n",
      "- most recent data added on 2021-01-13\n",
      "\n"
     ]
    },
    {
     "data": {
      "text/html": [
       "<div>\n",
       "<style scoped>\n",
       "    .dataframe tbody tr th:only-of-type {\n",
       "        vertical-align: middle;\n",
       "    }\n",
       "\n",
       "    .dataframe tbody tr th {\n",
       "        vertical-align: top;\n",
       "    }\n",
       "\n",
       "    .dataframe thead th {\n",
       "        text-align: right;\n",
       "    }\n",
       "</style>\n",
       "<table border=\"1\" class=\"dataframe\">\n",
       "  <thead>\n",
       "    <tr style=\"text-align: right;\">\n",
       "      <th></th>\n",
       "      <th>y</th>\n",
       "      <th>X</th>\n",
       "    </tr>\n",
       "  </thead>\n",
       "  <tbody>\n",
       "    <tr>\n",
       "      <th>0</th>\n",
       "      <td>31.087521</td>\n",
       "      <td>31.354226</td>\n",
       "    </tr>\n",
       "    <tr>\n",
       "      <th>1</th>\n",
       "      <td>52.499153</td>\n",
       "      <td>41.401191</td>\n",
       "    </tr>\n",
       "    <tr>\n",
       "      <th>2</th>\n",
       "      <td>48.643840</td>\n",
       "      <td>62.047707</td>\n",
       "    </tr>\n",
       "    <tr>\n",
       "      <th>3</th>\n",
       "      <td>76.006814</td>\n",
       "      <td>86.283587</td>\n",
       "    </tr>\n",
       "    <tr>\n",
       "      <th>4</th>\n",
       "      <td>76.897401</td>\n",
       "      <td>78.501607</td>\n",
       "    </tr>\n",
       "    <tr>\n",
       "      <th>...</th>\n",
       "      <td>...</td>\n",
       "      <td>...</td>\n",
       "    </tr>\n",
       "    <tr>\n",
       "      <th>1435</th>\n",
       "      <td>63.243651</td>\n",
       "      <td>65.926000</td>\n",
       "    </tr>\n",
       "    <tr>\n",
       "      <th>1436</th>\n",
       "      <td>36.271838</td>\n",
       "      <td>6.710064</td>\n",
       "    </tr>\n",
       "    <tr>\n",
       "      <th>1437</th>\n",
       "      <td>41.803066</td>\n",
       "      <td>27.505270</td>\n",
       "    </tr>\n",
       "    <tr>\n",
       "      <th>1438</th>\n",
       "      <td>45.139632</td>\n",
       "      <td>50.133207</td>\n",
       "    </tr>\n",
       "    <tr>\n",
       "      <th>1439</th>\n",
       "      <td>75.317018</td>\n",
       "      <td>92.522733</td>\n",
       "    </tr>\n",
       "  </tbody>\n",
       "</table>\n",
       "<p>1440 rows × 2 columns</p>\n",
       "</div>"
      ],
      "text/plain": [
       "              y          X\n",
       "0     31.087521  31.354226\n",
       "1     52.499153  41.401191\n",
       "2     48.643840  62.047707\n",
       "3     76.006814  86.283587\n",
       "4     76.897401  78.501607\n",
       "...         ...        ...\n",
       "1435  63.243651  65.926000\n",
       "1436  36.271838   6.710064\n",
       "1437  41.803066  27.505270\n",
       "1438  45.139632  50.133207\n",
       "1439  75.317018  92.522733\n",
       "\n",
       "[1440 rows x 2 columns]"
      ]
     },
     "metadata": {},
     "output_type": "display_data"
    }
   ],
   "source": [
    "test_data, test_data_date = download_latest_data_file('bodywork-ml-ops-project')\n",
    "print(f'- most recent data added on {test_data_date}\\n')\n",
    "display(test_data)"
   ]
  },
  {
   "cell_type": "markdown",
   "metadata": {},
   "source": [
    "## Score Latest Data using Current Scoring-Service API Endpoint\n",
    "\n",
    "We use the model-scoring REST API endpoint to get predictions for every instance in the new dataset. We use the known labels together with the scores to compute errors."
   ]
  },
  {
   "cell_type": "code",
   "execution_count": 4,
   "metadata": {},
   "outputs": [],
   "source": [
    "def get_model_score(url: str, features: Dict[str, float]) -> float:\n",
    "    \"\"\"Request score from REST API for a single instance of data.\"\"\"\n",
    "    session = requests.Session()\n",
    "    session.mount(url, requests.adapters.HTTPAdapter(max_retries=3))\n",
    "    response = session.post(url, json=features)\n",
    "    return response.json()['prediction']\n",
    "\n",
    "\n",
    "def analyse_model_score(score: float, label: float) -> Tuple[float, float, float]:\n",
    "    \"\"\"Compute performance metrics for model score.\"\"\"\n",
    "    absolute_percentage_error = abs(score / label - 1)\n",
    "    return (score, label, absolute_percentage_error)\n",
    "\n",
    "\n",
    "def generate_model_test_results(url: str, test_data: pd.DataFrame) -> pd.DataFrame:\n",
    "    \"\"\"Get test results for all test data.\"\"\"\n",
    "    def single_test_result(X: float, label: float) -> Tuple[float, float, float]:\n",
    "        score = get_model_score(url, {'X': X})\n",
    "        test_result = analyse_model_score(score, label)\n",
    "        return test_result\n",
    "    \n",
    "    test_data = [single_test_result(row.X, row.y) for row in test_data.itertuples()]\n",
    "    return pd.DataFrame(test_data, columns=['score', 'label', 'APE'])\n",
    "\n",
    "        \n",
    "scoring_service_url = 'http://localhost:5000/score/v1'\n",
    "test_results = generate_model_test_results(scoring_service_url, test_data)"
   ]
  },
  {
   "cell_type": "markdown",
   "metadata": {},
   "source": [
    "# Analyse Test Results\n",
    "\n",
    "Computing test metrics using scores and labels."
   ]
  },
  {
   "cell_type": "code",
   "execution_count": 5,
   "metadata": {},
   "outputs": [
    {
     "name": "stdout",
     "output_type": "stream",
     "text": [
      "date: 2021-01-13\n",
      "MAPE: 0.17367066675741\n",
      "R2: 0.8271467437255443\n",
      "MR: 2.9814631505893168\n"
     ]
    }
   ],
   "source": [
    "def test_metrics(test_results: pd.DataFrame, results_date: date) -> pd.DataFrame:\n",
    "    MAPE = test_results.APE.mean()\n",
    "    R2 = test_results.score.corr(test_results.label)\n",
    "    MR = test_results.APE.max()\n",
    "    return pd.DataFrame({'date': [results_date], 'MAPE': [MAPE], 'R2': R2, 'MR': [MR]})\n",
    "\n",
    "\n",
    "test_metrics = test_metrics(test_results, test_data_date)\n",
    "for k, v in test_metrics.to_dict().items():\n",
    "    print(f'{k}: {v[0]}')"
   ]
  },
  {
   "cell_type": "markdown",
   "metadata": {},
   "source": [
    "## Persist Test Results\n",
    "\n",
    "Upload test metrics to AWS S3."
   ]
  },
  {
   "cell_type": "code",
   "execution_count": 7,
   "metadata": {},
   "outputs": [
    {
     "name": "stdout",
     "output_type": "stream",
     "text": [
      "uploaded regressor-test-results-2021-01-13.csv to s3://bodywork-ml-ops-project/test-metrics/\n"
     ]
    }
   ],
   "source": [
    "metrics_filename = f'regressor-test-results-{test_data_date}.csv'\n",
    "test_metrics_filename = make_test_metrics_filename(test_data_date)\n",
    "test_metrics.to_csv(test_metrics_filename, header=True, index=False)\n",
    "\n",
    "s3_bucket_name = 'bodywork-ml-ops-project'\n",
    "s3_client = aws.client('s3')\n",
    "\n",
    "s3_client.upload_file(\n",
    "    test_metrics_filename,\n",
    "    s3_bucket_name,\n",
    "    f'test-metrics/{test_metrics_filename}'\n",
    ")\n",
    "print(f'uploaded {test_metrics_filename} to s3://{s3_bucket_name}/test-metrics/')"
   ]
  },
  {
   "cell_type": "code",
   "execution_count": null,
   "metadata": {},
   "outputs": [],
   "source": []
  }
 ],
 "metadata": {
  "kernelspec": {
   "display_name": "Python 3",
   "language": "python",
   "name": "python3"
  },
  "language_info": {
   "codemirror_mode": {
    "name": "ipython",
    "version": 3
   },
   "file_extension": ".py",
   "mimetype": "text/x-python",
   "name": "python",
   "nbconvert_exporter": "python",
   "pygments_lexer": "ipython3",
   "version": "3.7.1"
  }
 },
 "nbformat": 4,
 "nbformat_minor": 4
}
