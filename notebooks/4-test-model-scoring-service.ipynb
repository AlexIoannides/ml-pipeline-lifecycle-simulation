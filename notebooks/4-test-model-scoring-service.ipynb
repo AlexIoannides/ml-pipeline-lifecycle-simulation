{
 "cells": [
  {
   "cell_type": "markdown",
   "metadata": {},
   "source": [
    "# Test Model-Scoring Service\n",
    "\n",
    "This notebook uses newly generated data to test the model-scoring service - i.e. it uses data generated for the period `t+1` to test a model trained with all data up until period `t`."
   ]
  },
  {
   "cell_type": "markdown",
   "metadata": {},
   "source": [
    "## Imports"
   ]
  },
  {
   "cell_type": "code",
   "execution_count": 1,
   "metadata": {},
   "outputs": [],
   "source": [
    "import re\n",
    "from datetime import date, datetime\n",
    "from io import BytesIO\n",
    "from time import time\n",
    "from typing import Dict, Tuple\n",
    "\n",
    "import requests\n",
    "import boto3 as aws\n",
    "import numpy as np\n",
    "import pandas as pd\n",
    "from botocore.exceptions import ClientError"
   ]
  },
  {
   "cell_type": "markdown",
   "metadata": {},
   "source": [
    "## Load Newly Generated Data File\n",
    "\n",
    "Load the newly generated CSV data file from the project's AWS S3 bucket. We start by defining an efficient helper function."
   ]
  },
  {
   "cell_type": "code",
   "execution_count": 2,
   "metadata": {},
   "outputs": [],
   "source": [
    "def download_latest_data_file(aws_bucket: str) -> Tuple[pd.DataFrame, date]:\n",
    "    \"\"\"Get latest model from AWS S3 bucket.\"\"\"\n",
    "    def _date_from_object_key(key: str) -> date:\n",
    "        \"\"\"Extract date from S3 file object key.\"\"\"\n",
    "        date_string = re.findall('20[2-9][0-9]-[0-1][0-9]-[0-3][0-9]', key)[0]\n",
    "        file_date = datetime.strptime(date_string, '%Y-%m-%d').date()\n",
    "        return file_date\n",
    "\n",
    "    print(f'downloading latest data file from s3://{aws_bucket}/datasets')\n",
    "    try:\n",
    "        s3_client = aws.client('s3')\n",
    "        s3_objects = s3_client.list_objects(Bucket=aws_bucket, Prefix='datasets/')\n",
    "        object_keys_and_dates = [\n",
    "            (obj['Key'], _date_from_object_key(obj['Key']))\n",
    "            for obj in s3_objects['Contents']\n",
    "        ]\n",
    "        latest_file_obj = sorted(object_keys_and_dates, key=lambda e: e[1])[-1]\n",
    "        latest_file_obj_key = latest_file_obj[0]\n",
    "        object_data = s3_client.get_object(Bucket=aws_bucket, Key=latest_file_obj_key)\n",
    "        data = pd.read_csv(BytesIO(object_data['Body'].read()))\n",
    "        dataset_date = latest_file_obj[1]\n",
    "    except ClientError:\n",
    "        print(f'failed to data file from s3://{aws_bucket}/datasets')\n",
    "    return (data, dataset_date)\n"
   ]
  },
  {
   "cell_type": "markdown",
   "metadata": {},
   "source": [
    "Applying `download_latest_data_file` to the project's S3 bucket."
   ]
  },
  {
   "cell_type": "code",
   "execution_count": 3,
   "metadata": {},
   "outputs": [
    {
     "name": "stdout",
     "output_type": "stream",
     "text": [
      "downloading latest data file from s3://bodywork-mlops-project/datasets\n",
      "- most recent data added on 2021-04-08\n",
      "\n"
     ]
    },
    {
     "data": {
      "text/html": [
       "<div>\n",
       "<style scoped>\n",
       "    .dataframe tbody tr th:only-of-type {\n",
       "        vertical-align: middle;\n",
       "    }\n",
       "\n",
       "    .dataframe tbody tr th {\n",
       "        vertical-align: top;\n",
       "    }\n",
       "\n",
       "    .dataframe thead th {\n",
       "        text-align: right;\n",
       "    }\n",
       "</style>\n",
       "<table border=\"1\" class=\"dataframe\">\n",
       "  <thead>\n",
       "    <tr style=\"text-align: right;\">\n",
       "      <th></th>\n",
       "      <th>date</th>\n",
       "      <th>y</th>\n",
       "      <th>X</th>\n",
       "    </tr>\n",
       "  </thead>\n",
       "  <tbody>\n",
       "    <tr>\n",
       "      <th>0</th>\n",
       "      <td>2021-04-08</td>\n",
       "      <td>9.628278</td>\n",
       "      <td>26.238603</td>\n",
       "    </tr>\n",
       "    <tr>\n",
       "      <th>1</th>\n",
       "      <td>2021-04-08</td>\n",
       "      <td>31.734304</td>\n",
       "      <td>83.349378</td>\n",
       "    </tr>\n",
       "    <tr>\n",
       "      <th>2</th>\n",
       "      <td>2021-04-08</td>\n",
       "      <td>15.895684</td>\n",
       "      <td>0.904141</td>\n",
       "    </tr>\n",
       "    <tr>\n",
       "      <th>3</th>\n",
       "      <td>2021-04-08</td>\n",
       "      <td>6.222054</td>\n",
       "      <td>15.655707</td>\n",
       "    </tr>\n",
       "    <tr>\n",
       "      <th>4</th>\n",
       "      <td>2021-04-08</td>\n",
       "      <td>28.480844</td>\n",
       "      <td>49.088352</td>\n",
       "    </tr>\n",
       "    <tr>\n",
       "      <th>...</th>\n",
       "      <td>...</td>\n",
       "      <td>...</td>\n",
       "      <td>...</td>\n",
       "    </tr>\n",
       "    <tr>\n",
       "      <th>1312</th>\n",
       "      <td>2021-04-08</td>\n",
       "      <td>41.715155</td>\n",
       "      <td>82.013927</td>\n",
       "    </tr>\n",
       "    <tr>\n",
       "      <th>1313</th>\n",
       "      <td>2021-04-08</td>\n",
       "      <td>41.230058</td>\n",
       "      <td>92.661911</td>\n",
       "    </tr>\n",
       "    <tr>\n",
       "      <th>1314</th>\n",
       "      <td>2021-04-08</td>\n",
       "      <td>58.966553</td>\n",
       "      <td>89.028334</td>\n",
       "    </tr>\n",
       "    <tr>\n",
       "      <th>1315</th>\n",
       "      <td>2021-04-08</td>\n",
       "      <td>54.065595</td>\n",
       "      <td>70.799505</td>\n",
       "    </tr>\n",
       "    <tr>\n",
       "      <th>1316</th>\n",
       "      <td>2021-04-08</td>\n",
       "      <td>38.993099</td>\n",
       "      <td>85.574962</td>\n",
       "    </tr>\n",
       "  </tbody>\n",
       "</table>\n",
       "<p>1317 rows × 3 columns</p>\n",
       "</div>"
      ],
      "text/plain": [
       "            date          y          X\n",
       "0     2021-04-08   9.628278  26.238603\n",
       "1     2021-04-08  31.734304  83.349378\n",
       "2     2021-04-08  15.895684   0.904141\n",
       "3     2021-04-08   6.222054  15.655707\n",
       "4     2021-04-08  28.480844  49.088352\n",
       "...          ...        ...        ...\n",
       "1312  2021-04-08  41.715155  82.013927\n",
       "1313  2021-04-08  41.230058  92.661911\n",
       "1314  2021-04-08  58.966553  89.028334\n",
       "1315  2021-04-08  54.065595  70.799505\n",
       "1316  2021-04-08  38.993099  85.574962\n",
       "\n",
       "[1317 rows x 3 columns]"
      ]
     },
     "metadata": {},
     "output_type": "display_data"
    }
   ],
   "source": [
    "test_data, test_data_date = download_latest_data_file('bodywork-mlops-project')\n",
    "print(f'- most recent data added on {test_data_date}\\n')\n",
    "display(test_data)"
   ]
  },
  {
   "cell_type": "markdown",
   "metadata": {},
   "source": [
    "## Score Latest Data using Current Scoring-Service API Endpoint\n",
    "\n",
    "We use the model-scoring REST API endpoint to get predictions for every instance in the new dataset. We use the known labels together with the scores to compute errors."
   ]
  },
  {
   "cell_type": "code",
   "execution_count": 4,
   "metadata": {},
   "outputs": [],
   "source": [
    "def get_model_score_timed(url: str, features: Dict[str, float]) -> Tuple[float, float]:\n",
    "    \"\"\"Request score from REST API for a single instance of data.\"\"\"\n",
    "    session = requests.Session()\n",
    "    session.mount(url, requests.adapters.HTTPAdapter(max_retries=3))\n",
    "    start_time = time()\n",
    "    response = session.post(url, json=features)\n",
    "    time_taken_to_respond = time() - start_time\n",
    "    return (response.json()['prediction'], time_taken_to_respond)\n",
    "\n",
    "\n",
    "def analyse_model_score(score: float, label: float) -> Tuple[float, float, float]:\n",
    "    \"\"\"Compute performance metrics for model score.\"\"\"\n",
    "    absolute_percentage_error = abs(score / label - 1)\n",
    "    return (score, label, absolute_percentage_error)\n",
    "\n",
    "\n",
    "def generate_model_test_results(url: str, test_data: pd.DataFrame) -> pd.DataFrame:\n",
    "    \"\"\"Get test results for all test data.\"\"\"\n",
    "    def single_test_result(X: float, label: float) -> Tuple[float, float, float]:\n",
    "        score, response_time = get_model_score_timed(url, {'X': X})\n",
    "        test_result = analyse_model_score(score, label)\n",
    "        return (*test_result, response_time)\n",
    "    \n",
    "    test_data = [single_test_result(row.X, row.y) for row in test_data.itertuples()]\n",
    "    return pd.DataFrame(test_data, columns=['score', 'label', 'APE', 'response_time'])\n",
    "\n",
    "        \n",
    "scoring_service_url = 'http://localhost:5000/score/v1'\n",
    "test_results = generate_model_test_results(scoring_service_url, test_data)"
   ]
  },
  {
   "cell_type": "markdown",
   "metadata": {},
   "source": [
    "# Analyse Test Results\n",
    "\n",
    "Computing test metrics using scores and labels."
   ]
  },
  {
   "cell_type": "code",
   "execution_count": 5,
   "metadata": {},
   "outputs": [
    {
     "name": "stdout",
     "output_type": "stream",
     "text": [
      "date: 2021-04-08\n",
      "MAPE: 0.8006678255005728\n",
      "r_squared: 0.8050702283812241\n",
      "max_residual: 126.91942117862578\n",
      "mean_response_time: 0.008220657581801476\n"
     ]
    }
   ],
   "source": [
    "def test_metrics(test_results: pd.DataFrame, results_date: date) -> pd.DataFrame:\n",
    "    MAPE = test_results.APE.mean()\n",
    "    r_squared = test_results.score.corr(test_results.label)\n",
    "    max_residual = test_results.APE.max()\n",
    "    mean_response_time = test_results.response_time.mean()\n",
    "    results_record = pd.DataFrame({\n",
    "        'date': [results_date],\n",
    "        'MAPE': [MAPE],\n",
    "        'r_squared': [r_squared],\n",
    "        'max_residual': [max_residual],\n",
    "        'mean_response_time': [mean_response_time]\n",
    "    })\n",
    "    return results_record\n",
    "\n",
    "\n",
    "test_metrics = test_metrics(test_results, test_data_date)\n",
    "for k, v in test_metrics.to_dict().items():\n",
    "    print(f'{k}: {v[0]}')"
   ]
  },
  {
   "cell_type": "markdown",
   "metadata": {},
   "source": [
    "## Persist Test Results\n",
    "\n",
    "Upload test metrics to AWS S3."
   ]
  },
  {
   "cell_type": "code",
   "execution_count": 6,
   "metadata": {},
   "outputs": [
    {
     "name": "stdout",
     "output_type": "stream",
     "text": [
      "uploaded regressor-test-results-2021-04-08.csv to s3://bodywork-mlops-project/test-metrics/\n"
     ]
    }
   ],
   "source": [
    "test_metrics_filename = f'regressor-test-results-{test_data_date}.csv'\n",
    "test_metrics.to_csv(test_metrics_filename, header=True, index=False)\n",
    "\n",
    "s3_bucket_name = 'bodywork-mlops-project'\n",
    "s3_client = aws.client('s3')\n",
    "\n",
    "s3_client.upload_file(\n",
    "    test_metrics_filename,\n",
    "    s3_bucket_name,\n",
    "    f'test-metrics/{test_metrics_filename}'\n",
    ")\n",
    "print(f'uploaded {test_metrics_filename} to s3://{s3_bucket_name}/test-metrics/')"
   ]
  },
  {
   "cell_type": "code",
   "execution_count": null,
   "metadata": {},
   "outputs": [],
   "source": []
  }
 ],
 "metadata": {
  "kernelspec": {
   "display_name": "Python 3",
   "language": "python",
   "name": "python3"
  },
  "language_info": {
   "codemirror_mode": {
    "name": "ipython",
    "version": 3
   },
   "file_extension": ".py",
   "mimetype": "text/x-python",
   "name": "python",
   "nbconvert_exporter": "python",
   "pygments_lexer": "ipython3",
   "version": "3.7.1"
  }
 },
 "nbformat": 4,
 "nbformat_minor": 4
}
