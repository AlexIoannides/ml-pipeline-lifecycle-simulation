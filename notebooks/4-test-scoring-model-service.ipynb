{
 "cells": [
  {
   "cell_type": "markdown",
   "metadata": {},
   "source": [
    "# Test Model-Scoring Service\n",
    "\n",
    "This notebook uses newly created data to test the model-scoring service - i.e. it uses data generated for the period `t+1` to test a model trained with all data up until period `t`."
   ]
  },
  {
   "cell_type": "markdown",
   "metadata": {},
   "source": [
    "## Imports"
   ]
  },
  {
   "cell_type": "code",
   "execution_count": 1,
   "metadata": {},
   "outputs": [],
   "source": [
    "import re\n",
    "from urllib.request import urlopen\n",
    "from typing import Dict, Tuple\n",
    "\n",
    "import requests\n",
    "import boto3 as aws\n",
    "import numpy as np\n",
    "import pandas as pd"
   ]
  },
  {
   "cell_type": "markdown",
   "metadata": {},
   "source": [
    "## Download Newly Generated Dataset"
   ]
  },
  {
   "cell_type": "code",
   "execution_count": 2,
   "metadata": {},
   "outputs": [
    {
     "name": "stdout",
     "output_type": "stream",
     "text": [
      "<class 'pandas.core.frame.DataFrame'>\n",
      "RangeIndex: 1440 entries, 0 to 1439\n",
      "Data columns (total 2 columns):\n",
      " #   Column  Non-Null Count  Dtype  \n",
      "---  ------  --------------  -----  \n",
      " 0   y       1440 non-null   float64\n",
      " 1   X       1440 non-null   float64\n",
      "dtypes: float64(2)\n",
      "memory usage: 22.6 KB\n"
     ]
    }
   ],
   "source": [
    "latest_data_url = ('http://bodywork-ml-ops-project.s3.eu-west-2.amazonaws.com'\n",
    "            '/datasets/regression-dataset-2021-01-12.csv')\n",
    "\n",
    "latest_data = pd.read_csv(urlopen(latest_data_url))\n",
    "latest_data.info()"
   ]
  },
  {
   "cell_type": "markdown",
   "metadata": {},
   "source": [
    "## Score Latest Data using Current Scoring-Service API Endpoint\n",
    "\n",
    "We use the model-scoring REST API endpoint to get predictions for every instance in the new dataset. We use the known labels together with the scores to compute errors."
   ]
  },
  {
   "cell_type": "code",
   "execution_count": 3,
   "metadata": {},
   "outputs": [],
   "source": [
    "def get_model_score(url: str, features: Dict[str, float]) -> float:\n",
    "    \"\"\"Request score from REST API for a single instance of data.\"\"\"\n",
    "    session = requests.Session()\n",
    "    session.mount(url, requests.adapters.HTTPAdapter(max_retries=3))\n",
    "    response = session.post(url, json=features)\n",
    "    return response.json()['prediction']\n",
    "\n",
    "\n",
    "def analyse_model_score(score: float, label: float) -> Tuple[float, float, float]:\n",
    "    \"\"\"Compute performance metrics for model score.\"\"\"\n",
    "    absolute_percentage_error = abs(score / label - 1)\n",
    "    return (score, label, absolute_percentage_error)\n",
    "\n",
    "\n",
    "def generate_model_test_results(url: str, test_data: pd.DataFrame) -> pd.DataFrame:\n",
    "    \"\"\"Get test results for all test data.\"\"\"\n",
    "    def single_test_result(X: float, label: float) -> Tuple[float, float, float]:\n",
    "        score = get_model_score(url, {'X': X})\n",
    "        test_result = analyse_model_score(score, label)\n",
    "        return test_result\n",
    "    \n",
    "    test_data = [single_test_result(row.X, row.y) for row in test_data.itertuples()]\n",
    "    return pd.DataFrame(test_data, columns=['score', 'label', 'APE'])\n",
    "\n",
    "        \n",
    "scoring_service_url = 'http://localhost:5000/score/v1'\n",
    "test_results = generate_model_test_results(scoring_service_url, latest_data)"
   ]
  },
  {
   "cell_type": "markdown",
   "metadata": {},
   "source": [
    "# Analyse Test Results\n",
    "\n",
    "Computing test metrics using scores and labels."
   ]
  },
  {
   "cell_type": "code",
   "execution_count": 4,
   "metadata": {},
   "outputs": [
    {
     "name": "stdout",
     "output_type": "stream",
     "text": [
      "MAPE: 0.18\n",
      "R2: 0.82\n",
      "MR: 16.97\n"
     ]
    }
   ],
   "source": [
    "def test_metrics(test_results: pd.DataFrame) -> pd.DataFrame:\n",
    "    MAPE = test_results.APE.mean()\n",
    "    R2 = test_results.score.corr(test_results.label)\n",
    "    MR = test_results.APE.max()\n",
    "    return pd.DataFrame({'MAPE': [MAPE], 'R2': R2, 'MR': [MR]})\n",
    "\n",
    "\n",
    "metrics = test_metrics(test_results)\n",
    "for k, v in metrics.to_dict().items():\n",
    "    print(f'{k}: {v[0]:.2f}')"
   ]
  },
  {
   "cell_type": "markdown",
   "metadata": {},
   "source": [
    "## Persist Test Results\n",
    "\n",
    "Upload test metrics to AWS S3."
   ]
  },
  {
   "cell_type": "code",
   "execution_count": 5,
   "metadata": {},
   "outputs": [
    {
     "name": "stdout",
     "output_type": "stream",
     "text": [
      "uploaded regressor-2021-01-12.csv to s3://bodywork-ml-ops-project/test-metrics\n"
     ]
    }
   ],
   "source": [
    "def make_filename(data_url: str) -> str:\n",
    "    \"\"\"Generate model and metrics filenames from data URL.\"\"\"\n",
    "    data_date = re.findall('20[0-9][0-9]-[0-1][0-9]-[0-3][0-9]', data_url)[0]\n",
    "    metrics_filename = f'regressor-{data_date}.csv'\n",
    "    return metrics_filename\n",
    "    \n",
    "\n",
    "metrics_filename = make_filename(latest_data_url)\n",
    "metrics.to_csv(metrics_filename, header=True, index=False)\n",
    "    \n",
    "s3_client = aws.client('s3')\n",
    "s3_client.upload_file(metrics_filename,\n",
    "    'bodywork-ml-ops-project',\n",
    "    f'test-metrics/{metrics_filename}'\n",
    ")\n",
    "print(f'uploaded {metrics_filename} to s3://bodywork-ml-ops-project/test-metrics')"
   ]
  },
  {
   "cell_type": "code",
   "execution_count": null,
   "metadata": {},
   "outputs": [],
   "source": []
  }
 ],
 "metadata": {
  "kernelspec": {
   "display_name": "Python 3",
   "language": "python",
   "name": "python3"
  },
  "language_info": {
   "codemirror_mode": {
    "name": "ipython",
    "version": 3
   },
   "file_extension": ".py",
   "mimetype": "text/x-python",
   "name": "python",
   "nbconvert_exporter": "python",
   "pygments_lexer": "ipython3",
   "version": "3.7.1"
  }
 },
 "nbformat": 4,
 "nbformat_minor": 4
}
