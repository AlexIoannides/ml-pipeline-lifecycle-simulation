{
 "cells": [
  {
   "cell_type": "markdown",
   "metadata": {},
   "source": [
    "# Serve Model\n",
    "\n",
    "This notebook defines a prototype Flask web server with a REST API endpoint for scoring intances of data. The model-soring API endpoint uses a trained model that is downloaded from cloud storage (AWS S3) and loaded into memory."
   ]
  },
  {
   "cell_type": "markdown",
   "metadata": {},
   "source": [
    "# Imports and Configuration"
   ]
  },
  {
   "cell_type": "code",
   "execution_count": 1,
   "metadata": {},
   "outputs": [],
   "source": [
    "import re\n",
    "from datetime import date, datetime\n",
    "from io import BytesIO\n",
    "from typing import Tuple\n",
    "\n",
    "import boto3 as aws\n",
    "import numpy as np\n",
    "from botocore.exceptions import ClientError\n",
    "from flask import Flask, jsonify, make_response, request, Response\n",
    "from joblib import load\n",
    "from sklearn.base import BaseEstimator"
   ]
  },
  {
   "cell_type": "markdown",
   "metadata": {},
   "source": [
    "## Load Latest Model\n",
    "\n",
    "Load the latest trained model from the project's AWS S3 bucket. We start by defining an efficient helper function."
   ]
  },
  {
   "cell_type": "code",
   "execution_count": 2,
   "metadata": {},
   "outputs": [],
   "source": [
    "def download_latest_model(aws_bucket: str) -> Tuple[BaseEstimator, date]:\n",
    "    \"\"\"Get latest model from AWS S3 bucket.\"\"\"\n",
    "    def _date_from_object_key(key: str) -> date:\n",
    "        \"\"\"Extract date from S3 file object key.\"\"\"\n",
    "        date_string = re.findall('20[2-9][0-9]-[0-1][0-9]-[0-3][0-9]', key)[0]\n",
    "        file_date = datetime.strptime(date_string, '%Y-%m-%d').date()\n",
    "        return file_date\n",
    "\n",
    "    print(f'downloading latest model data from s3://{aws_bucket}/models')\n",
    "    try:\n",
    "        s3_client = aws.client('s3')\n",
    "        s3_objects = s3_client.list_objects(Bucket=aws_bucket, Prefix='models/')\n",
    "        object_keys_and_dates = [\n",
    "            (obj['Key'], _date_from_object_key(obj['Key']))\n",
    "            for obj in s3_objects['Contents']\n",
    "        ]\n",
    "        latest_model_obj = sorted(object_keys_and_dates, key=lambda e: e[1])[-1]\n",
    "        latest_model_obj_key = latest_model_obj[0]\n",
    "        object_data = s3_client.get_object(Bucket=aws_bucket, Key=latest_model_obj_key)\n",
    "        model = load(BytesIO(object_data['Body'].read()))\n",
    "        dataset_date = latest_model_obj[1]\n",
    "    except ClientError:\n",
    "        print(f'failed to download model from s3://{aws_bucket}/models')\n",
    "    return (model, dataset_date)\n"
   ]
  },
  {
   "cell_type": "markdown",
   "metadata": {},
   "source": [
    "Applying `download_latest_model` to the project's S3 bucket."
   ]
  },
  {
   "cell_type": "code",
   "execution_count": 3,
   "metadata": {},
   "outputs": [
    {
     "name": "stdout",
     "output_type": "stream",
     "text": [
      "downloading latest model data from s3://bodywork-mlops-project/models\n",
      "- latest model trained on 2021-01-21\n",
      "\n",
      "LinearRegression()\n"
     ]
    }
   ],
   "source": [
    "model, data_date = download_latest_model('bodywork-mlops-project')\n",
    "print(f'- latest model trained on {data_date}\\n')\n",
    "print(model)"
   ]
  },
  {
   "cell_type": "markdown",
   "metadata": {},
   "source": [
    "## Define REST API Endpoint\n",
    "\n",
    "Where a single instance of data will be POSTed to the `/score/v1` endpoint as JSON - e.g. `{\"X\": 50}`."
   ]
  },
  {
   "cell_type": "code",
   "execution_count": 4,
   "metadata": {},
   "outputs": [],
   "source": [
    "app = Flask(__name__)\n",
    "\n",
    "@app.route('/score/v1', methods=['POST'])\n",
    "def score_data_instance() -> Response:\n",
    "    \"\"\"Score incoming data instance using loaded model.\"\"\"\n",
    "    features = request.json['X']\n",
    "    X = np.array(features, ndmin=2)\n",
    "    prediction = model.predict(X)\n",
    "    response_data = jsonify({'prediction': prediction[0], 'model_info': str(model)})\n",
    "    return make_response(response_data)"
   ]
  },
  {
   "cell_type": "markdown",
   "metadata": {},
   "source": [
    "## Start Test Server\n",
    "\n",
    "Running the cell below will start the Flask test server and print the logs as results. To test the API endpoint defined above, open a terminal in another window and execute the following HTTP request using the curl tool,\n",
    "\n",
    "```shell\n",
    "curl http://0.0.0.0:5000/score/v1 \\\n",
    "    --request POST \\\n",
    "    --header \"Content-Type: application/json\" \\\n",
    "    --data '{\"X\": 50}'\n",
    "```\n",
    "\n",
    "The successful response from the model-scoring service should look like,\n",
    "\n",
    "```json\n",
    "{\n",
    "    \"prediction\": 54.57560049377929,\n",
    "    \"model_info\": \"LinearRegression()\"\n",
    "}\n",
    "```\n",
    "\n",
    "Stop the service by interrupting the kernel (i.e. hit the 'stop button' above)."
   ]
  },
  {
   "cell_type": "code",
   "execution_count": null,
   "metadata": {},
   "outputs": [
    {
     "name": "stdout",
     "output_type": "stream",
     "text": [
      " * Serving Flask app \"__main__\" (lazy loading)\n",
      " * Environment: production\n",
      "\u001b[31m   WARNING: This is a development server. Do not use it in a production deployment.\u001b[0m\n",
      "\u001b[2m   Use a production WSGI server instead.\u001b[0m\n",
      " * Debug mode: off\n"
     ]
    },
    {
     "name": "stderr",
     "output_type": "stream",
     "text": [
      " * Running on http://0.0.0.0:5000/ (Press CTRL+C to quit)\n"
     ]
    }
   ],
   "source": [
    "app.run(host='0.0.0.0', port=5000)"
   ]
  },
  {
   "cell_type": "code",
   "execution_count": null,
   "metadata": {},
   "outputs": [],
   "source": []
  }
 ],
 "metadata": {
  "kernelspec": {
   "display_name": "Python 3",
   "language": "python",
   "name": "python3"
  },
  "language_info": {
   "codemirror_mode": {
    "name": "ipython",
    "version": 3
   },
   "file_extension": ".py",
   "mimetype": "text/x-python",
   "name": "python",
   "nbconvert_exporter": "python",
   "pygments_lexer": "ipython3",
   "version": "3.7.1"
  }
 },
 "nbformat": 4,
 "nbformat_minor": 4
}
