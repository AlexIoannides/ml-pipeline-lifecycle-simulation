{
 "cells": [
  {
   "cell_type": "markdown",
   "metadata": {},
   "source": [
    "# Serve Model\n",
    "\n",
    "This notebook defines a prototype Flask web server with a REST API endpoint for scoring intances of data. The model-soring API endpoint uses a trained model that is downloaded from cloud storage (AWS S3) and loaded into memory."
   ]
  },
  {
   "cell_type": "markdown",
   "metadata": {},
   "source": [
    "# Imports and Configuration"
   ]
  },
  {
   "cell_type": "code",
   "execution_count": 1,
   "metadata": {},
   "outputs": [],
   "source": [
    "from urllib.request import urlopen\n",
    "\n",
    "import numpy as np\n",
    "from flask import Flask, jsonify, make_response, request, Response\n",
    "from joblib import load"
   ]
  },
  {
   "cell_type": "markdown",
   "metadata": {},
   "source": [
    "## Load Model"
   ]
  },
  {
   "cell_type": "code",
   "execution_count": 2,
   "metadata": {},
   "outputs": [
    {
     "name": "stdout",
     "output_type": "stream",
     "text": [
      "LinearRegression()\n"
     ]
    }
   ],
   "source": [
    "model_url = (\n",
    "    'http://bodywork-ml-ops-project.s3.eu-west-2.amazonaws.com'\n",
    "    '/models/regressor-2021-01-12.joblib'\n",
    ")\n",
    "model = load(urlopen(model_url))\n",
    "print(model)"
   ]
  },
  {
   "cell_type": "markdown",
   "metadata": {},
   "source": [
    "## Define REST API Endpoint\n",
    "\n",
    "Where a single instance of data will be POSTed to the `/score/v1` endpoint as JSON - e.g. `{\"X\": 50}`."
   ]
  },
  {
   "cell_type": "code",
   "execution_count": 3,
   "metadata": {},
   "outputs": [],
   "source": [
    "app = Flask(__name__)\n",
    "\n",
    "@app.route('/score/v1', methods=['POST'])\n",
    "def score_data_instance() -> Response:\n",
    "    \"\"\"Score incoming data instance using loaded model.\"\"\"\n",
    "    features = request.json['X']\n",
    "    X = np.array(features, ndmin=2)\n",
    "    prediction = model.predict(X)\n",
    "    response_data = jsonify({'prediction': prediction[0], 'model_info': str(model)})\n",
    "    return make_response(response_data)"
   ]
  },
  {
   "cell_type": "markdown",
   "metadata": {},
   "source": [
    "## Start Test Server\n",
    "\n",
    "Running the cell below will start the Flask test server and print the logs as results. To test the API endpoint defined above, open a terminal in another window and execute the following HTTP request using the curl tool,\n",
    "\n",
    "```shell\n",
    "curl http://0.0.0.0:5000/score/v1 \\\n",
    "    --request POST \\\n",
    "    --header \"Content-Type: application/json\" \\\n",
    "    --data '{\"X\": 50}'\n",
    "```\n",
    "\n",
    "The successful response from the model-scoring service should look like,\n",
    "\n",
    "```json\n",
    "{\n",
    "    \"prediction\": 54.57560049377929,\n",
    "    \"model_info\": \"LinearRegression()\"\n",
    "}\n",
    "```\n",
    "\n",
    "Stop the service by interrupting the kernel (i.e. hit the 'stop button' above)."
   ]
  },
  {
   "cell_type": "code",
   "execution_count": null,
   "metadata": {},
   "outputs": [
    {
     "name": "stdout",
     "output_type": "stream",
     "text": [
      " * Serving Flask app \"__main__\" (lazy loading)\n",
      " * Environment: production\n",
      "\u001b[31m   WARNING: This is a development server. Do not use it in a production deployment.\u001b[0m\n",
      "\u001b[2m   Use a production WSGI server instead.\u001b[0m\n",
      " * Debug mode: off\n"
     ]
    },
    {
     "name": "stderr",
     "output_type": "stream",
     "text": [
      " * Running on http://0.0.0.0:5000/ (Press CTRL+C to quit)\n"
     ]
    }
   ],
   "source": [
    "app.run(host='0.0.0.0', port=5000)"
   ]
  },
  {
   "cell_type": "code",
   "execution_count": null,
   "metadata": {},
   "outputs": [],
   "source": []
  }
 ],
 "metadata": {
  "kernelspec": {
   "display_name": "Python 3",
   "language": "python",
   "name": "python3"
  },
  "language_info": {
   "codemirror_mode": {
    "name": "ipython",
    "version": 3
   },
   "file_extension": ".py",
   "mimetype": "text/x-python",
   "name": "python",
   "nbconvert_exporter": "python",
   "pygments_lexer": "ipython3",
   "version": "3.7.1"
  }
 },
 "nbformat": 4,
 "nbformat_minor": 4
}
