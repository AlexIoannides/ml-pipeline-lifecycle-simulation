{
 "cells": [
  {
   "cell_type": "markdown",
   "metadata": {},
   "source": [
    "# Model Performance Analytics"
   ]
  },
  {
   "cell_type": "markdown",
   "metadata": {},
   "source": [
    "## Imports"
   ]
  },
  {
   "cell_type": "code",
   "execution_count": 1,
   "metadata": {},
   "outputs": [],
   "source": [
    "from typing import Tuple\n",
    "\n",
    "import boto3 as aws\n",
    "import pandas as pd\n",
    "import seaborn as sns\n",
    "from botocore.exceptions import ClientError"
   ]
  },
  {
   "cell_type": "markdown",
   "metadata": {},
   "source": [
    "## Load Data"
   ]
  },
  {
   "cell_type": "code",
   "execution_count": 2,
   "metadata": {},
   "outputs": [],
   "source": [
    "def download_metrics(aws_bucket: str) -> Tuple[pd.DataFrame, pd.DataFrame]:\n",
    "    \"\"\"Get all model and test metrics from AWS S3 bucket.\n",
    "    \n",
    "    This function retreives all model and test metrics that have been\n",
    "    persisted to-date and returns them as two DataFrames.\n",
    "    \"\"\"\n",
    "    def _load_dataset_from_aws_s3(s3_obj_key: str) -> pd.DataFrame:\n",
    "        \"\"\"Load CSV datafile from AWS S3 into DataFrame.\"\"\"\n",
    "        object_data = s3_client.get_object(\n",
    "            Bucket=aws_bucket,\n",
    "            Key=s3_obj_key\n",
    "        )\n",
    "        return pd.read_csv(object_data['Body'])\n",
    "\n",
    "    try:\n",
    "        s3_client = aws.client('s3')\n",
    "        print(f'downloading model metrics from s3://{aws_bucket}/model-metrics')\n",
    "        s3_model_metrics_objects = s3_client.list_objects(\n",
    "            Bucket=aws_bucket,\n",
    "            Prefix='model-metrics/'\n",
    "        )\n",
    "        model_metrics = pd.concat(\n",
    "            _load_dataset_from_aws_s3(obj['Key'])\n",
    "            for obj in s3_model_metrics_objects['Contents']\n",
    "        )\n",
    "        print(f'downloading test metrics from s3://{aws_bucket}/model-metrics')\n",
    "        s3_test_metrics_objects = s3_client.list_objects(\n",
    "            Bucket=aws_bucket,\n",
    "            Prefix='test-metrics/'\n",
    "        )\n",
    "        test_metrics = pd.concat(\n",
    "            _load_dataset_from_aws_s3(obj['Key'])\n",
    "            for obj in s3_test_metrics_objects['Contents']\n",
    "        )\n",
    "        test_metrics.reset_index(drop=True, inplace=True)\n",
    "    except ClientError as e:\n",
    "        print(f'failed to download training data from s3://{aws_bucket}/datasets')\n",
    "    return (model_metrics, test_metrics)"
   ]
  },
  {
   "cell_type": "markdown",
   "metadata": {},
   "source": [
    "Get the metrics!"
   ]
  },
  {
   "cell_type": "code",
   "execution_count": 3,
   "metadata": {},
   "outputs": [
    {
     "name": "stdout",
     "output_type": "stream",
     "text": [
      "downloading model metrics from s3://bodywork-mlops-project/model-metrics\n",
      "downloading test metrics from s3://bodywork-mlops-project/model-metrics\n"
     ]
    }
   ],
   "source": [
    "model_metrics, test_metrics = download_metrics('bodywork-mlops-project')"
   ]
  },
  {
   "cell_type": "code",
   "execution_count": 4,
   "metadata": {},
   "outputs": [
    {
     "data": {
      "text/html": [
       "<div>\n",
       "<style scoped>\n",
       "    .dataframe tbody tr th:only-of-type {\n",
       "        vertical-align: middle;\n",
       "    }\n",
       "\n",
       "    .dataframe tbody tr th {\n",
       "        vertical-align: top;\n",
       "    }\n",
       "\n",
       "    .dataframe thead th {\n",
       "        text-align: right;\n",
       "    }\n",
       "</style>\n",
       "<table border=\"1\" class=\"dataframe\">\n",
       "  <thead>\n",
       "    <tr style=\"text-align: right;\">\n",
       "      <th></th>\n",
       "      <th>date</th>\n",
       "      <th>MAPE</th>\n",
       "      <th>r_squared</th>\n",
       "      <th>max_residual</th>\n",
       "    </tr>\n",
       "  </thead>\n",
       "  <tbody>\n",
       "    <tr>\n",
       "      <th>0</th>\n",
       "      <td>2021-04-08</td>\n",
       "      <td>0.780074</td>\n",
       "      <td>0.662754</td>\n",
       "      <td>24.315538</td>\n",
       "    </tr>\n",
       "  </tbody>\n",
       "</table>\n",
       "</div>"
      ],
      "text/plain": [
       "         date      MAPE  r_squared  max_residual\n",
       "0  2021-04-08  0.780074   0.662754     24.315538"
      ]
     },
     "execution_count": 4,
     "metadata": {},
     "output_type": "execute_result"
    }
   ],
   "source": [
    "model_metrics"
   ]
  },
  {
   "cell_type": "code",
   "execution_count": 5,
   "metadata": {},
   "outputs": [
    {
     "data": {
      "text/html": [
       "<div>\n",
       "<style scoped>\n",
       "    .dataframe tbody tr th:only-of-type {\n",
       "        vertical-align: middle;\n",
       "    }\n",
       "\n",
       "    .dataframe tbody tr th {\n",
       "        vertical-align: top;\n",
       "    }\n",
       "\n",
       "    .dataframe thead th {\n",
       "        text-align: right;\n",
       "    }\n",
       "</style>\n",
       "<table border=\"1\" class=\"dataframe\">\n",
       "  <thead>\n",
       "    <tr style=\"text-align: right;\">\n",
       "      <th></th>\n",
       "      <th>date</th>\n",
       "      <th>MAPE</th>\n",
       "      <th>r_squared</th>\n",
       "      <th>max_residual</th>\n",
       "      <th>mean_response_time</th>\n",
       "    </tr>\n",
       "  </thead>\n",
       "  <tbody>\n",
       "    <tr>\n",
       "      <th>0</th>\n",
       "      <td>2021-04-08</td>\n",
       "      <td>0.800668</td>\n",
       "      <td>0.80507</td>\n",
       "      <td>126.919421</td>\n",
       "      <td>0.008221</td>\n",
       "    </tr>\n",
       "  </tbody>\n",
       "</table>\n",
       "</div>"
      ],
      "text/plain": [
       "         date      MAPE  r_squared  max_residual  mean_response_time\n",
       "0  2021-04-08  0.800668    0.80507    126.919421            0.008221"
      ]
     },
     "execution_count": 5,
     "metadata": {},
     "output_type": "execute_result"
    }
   ],
   "source": [
    "test_metrics"
   ]
  },
  {
   "cell_type": "code",
   "execution_count": null,
   "metadata": {},
   "outputs": [],
   "source": []
  }
 ],
 "metadata": {
  "kernelspec": {
   "display_name": "Python 3",
   "language": "python",
   "name": "python3"
  },
  "language_info": {
   "codemirror_mode": {
    "name": "ipython",
    "version": 3
   },
   "file_extension": ".py",
   "mimetype": "text/x-python",
   "name": "python",
   "nbconvert_exporter": "python",
   "pygments_lexer": "ipython3",
   "version": "3.7.1"
  }
 },
 "nbformat": 4,
 "nbformat_minor": 4
}
